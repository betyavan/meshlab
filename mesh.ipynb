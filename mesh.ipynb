{
 "cells": [
  {
   "cell_type": "code",
   "execution_count": 1,
   "metadata": {
    "collapsed": true
   },
   "outputs": [],
   "source": [
    "import pymeshlab as pml"
   ]
  },
  {
   "cell_type": "code",
   "execution_count": 2,
   "outputs": [],
   "source": [
    "ms = pml.MeshSet()"
   ],
   "metadata": {
    "collapsed": false,
    "pycharm": {
     "name": "#%%\n"
    }
   }
  },
  {
   "cell_type": "code",
   "source": [
    "ms.load_new_mesh('refine.obj')\n",
    "ms.generate_convex_hull()\n",
    "ms.save_current_mesh('new.obj')"
   ],
   "metadata": {
    "collapsed": false,
    "pycharm": {
     "name": "#%%\n"
    }
   },
   "execution_count": 9,
   "outputs": []
  },
  {
   "cell_type": "code",
   "execution_count": 13,
   "outputs": [],
   "source": [
    "pml.print_filter_parameter_list('generate_surface_reconstruction_screened_poisson')"
   ],
   "metadata": {
    "collapsed": false,
    "pycharm": {
     "name": "#%%\n"
    }
   }
  },
  {
   "cell_type": "code",
   "source": [
    "out_dict = ms.apply_filter('compute_geometric_measures')\n",
    "print(out_dict['surface_area'])"
   ],
   "metadata": {
    "collapsed": false,
    "pycharm": {
     "name": "#%%\n"
    }
   },
   "execution_count": 7,
   "outputs": [
    {
     "name": "stderr",
     "output_type": "stream",
     "text": [
      "C:\\Users\\jaaj\\AppData\\Local\\Temp\\ipykernel_3056\\1920624571.py:1: UserWarning: Deprecated Filter Warning: You should use 'get_geometric_measures' instead of 'compute_geometric_measures'. See https://pymeshlab.readthedocs.io/en/latest/index.html#filters-renaming\n",
      "  out_dict = ms.apply_filter('compute_geometric_measures')\n"
     ]
    },
    {
     "ename": "PyMeshLabException",
     "evalue": "compute_geometric_measures requires at least one mesh loaded in the MeshSet.",
     "output_type": "error",
     "traceback": [
      "\u001B[1;31m---------------------------------------------------------------------------\u001B[0m",
      "\u001B[1;31mPyMeshLabException\u001B[0m                        Traceback (most recent call last)",
      "Cell \u001B[1;32mIn[7], line 1\u001B[0m\n\u001B[1;32m----> 1\u001B[0m out_dict \u001B[38;5;241m=\u001B[39m \u001B[43mms\u001B[49m\u001B[38;5;241;43m.\u001B[39;49m\u001B[43mapply_filter\u001B[49m\u001B[43m(\u001B[49m\u001B[38;5;124;43m'\u001B[39;49m\u001B[38;5;124;43mcompute_geometric_measures\u001B[39;49m\u001B[38;5;124;43m'\u001B[39;49m\u001B[43m)\u001B[49m\n\u001B[0;32m      2\u001B[0m \u001B[38;5;28mprint\u001B[39m(out_dict[\u001B[38;5;124m'\u001B[39m\u001B[38;5;124msurface_area\u001B[39m\u001B[38;5;124m'\u001B[39m])\n",
      "\u001B[1;31mPyMeshLabException\u001B[0m: compute_geometric_measures requires at least one mesh loaded in the MeshSet."
     ]
    }
   ]
  },
  {
   "cell_type": "code",
   "execution_count": 14,
   "outputs": [],
   "source": [
    "pml.search('poisson')"
   ],
   "metadata": {
    "collapsed": false,
    "pycharm": {
     "name": "#%%\n"
    }
   }
  },
  {
   "cell_type": "code",
   "execution_count": null,
   "outputs": [],
   "source": [],
   "metadata": {
    "collapsed": false,
    "pycharm": {
     "name": "#%%\n"
    }
   }
  }
 ],
 "metadata": {
  "kernelspec": {
   "display_name": "Python 3",
   "language": "python",
   "name": "python3"
  },
  "language_info": {
   "codemirror_mode": {
    "name": "ipython",
    "version": 2
   },
   "file_extension": ".py",
   "mimetype": "text/x-python",
   "name": "python",
   "nbconvert_exporter": "python",
   "pygments_lexer": "ipython2",
   "version": "2.7.6"
  }
 },
 "nbformat": 4,
 "nbformat_minor": 0
}